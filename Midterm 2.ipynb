{
 "cells": [
  {
   "cell_type": "markdown",
   "id": "559895d2",
   "metadata": {},
   "source": [
    "# Midterm 2\n",
    "\n",
    "## FINM 36700 - 2023\n",
    "\n",
    "### UChicago Financial Mathematics\n",
    "\n",
    "* Mark Hendricks\n",
    "* hendricks@uchicago.edu"
   ]
  },
  {
   "cell_type": "markdown",
   "id": "01cde8d3",
   "metadata": {},
   "source": [
    "# Instructions"
   ]
  },
  {
   "cell_type": "markdown",
   "id": "cc273c1a",
   "metadata": {},
   "source": [
    "## Please note the following:\n",
    "\n",
    "Points\n",
    "* The exam is 100 points.\n",
    "* You have 120 minutes to complete the exam.\n",
    "* For every minute late you submit the exam, you will lose one point.\n",
    "\n",
    "\n",
    "Submission\n",
    "* You will upload your solution to the `Midterm 2` assignment on Canvas, where you downloaded this. (Be sure to **submit** on Canvas, not just **save** on Canvas.\n",
    "* Your submission should be readable, (the graders can understand your answers,) and it should **include all code used in your analysis in a file format that the code can be executed.** \n",
    "\n",
    "Rules\n",
    "* The exam is open-material, closed-communication.\n",
    "* You do not need to cite material from the course github repo--you are welcome to use the code posted there without citation.\n",
    "\n",
    "Advice\n",
    "* If you find any question to be unclear, state your interpretation and proceed. We will only answer questions of interpretation if there is a typo, error, etc.\n",
    "* The exam will be graded for partial credit."
   ]
  },
  {
   "cell_type": "markdown",
   "id": "624f27b1",
   "metadata": {},
   "source": [
    "## Data\n",
    "\n",
    "**All data files are found in the class github repo, in the `data` folder.**\n",
    "\n",
    "This exam makes use of the following data files:\n",
    "* `midterm_2_data.xlsx`\n",
    "\n",
    "This file has sheets for...\n",
    "* `info` - names and descriptions of each factor\n",
    "* `factors (excess returns)` - excess returns on several factors\n",
    "* `portfolios (excess returns)` - excess returns on industry portfolios\n",
    "* `risk-free rate` - risk-free rates over time\n",
    "\n",
    "Note the data is **monthly** so any annualizations should use `12` months in a year."
   ]
  },
  {
   "cell_type": "markdown",
   "id": "ebf6e066",
   "metadata": {},
   "source": [
    "## Scoring\n",
    "\n",
    "| Problem | Points |\n",
    "|---------|--------|\n",
    "| 1       | 30     |\n",
    "| 2       | 35     |\n",
    "| 3       | 20     |\n",
    "| 4       | 15     |"
   ]
  },
  {
   "cell_type": "markdown",
   "id": "7fb2fc26",
   "metadata": {},
   "source": [
    "### Each numbered question is worth 5 points unless otherwise specified."
   ]
  },
  {
   "cell_type": "markdown",
   "id": "cb5c2bdf",
   "metadata": {},
   "source": [
    "### Notation\n",
    "(Hidden LaTeX commands)\n",
    "\n",
    "$$\\newcommand{\\betamkt}{\\beta^{i,\\text{MKT}}}$$\n",
    "$$\\newcommand{\\betahml}{\\beta^{i,\\text{HML}}}$$\n",
    "$$\\newcommand{\\betaumd}{\\beta^{i,\\text{UMD}}}$$\n",
    "$$\\newcommand{\\Eri}{E\\left[\\tilde{r}^{i}\\right]}$$\n",
    "$$\\newcommand{\\Emkt}{E\\left[\\tilde{r}^{\\text{MKT}}\\right]}$$\n",
    "$$\\newcommand{\\Ehml}{E\\left[\\tilde{r}^{\\text{HML}}\\right]}$$\n",
    "$$\\newcommand{\\Eumd}{E\\left[\\tilde{r}^{\\text{UMD}}\\right]}$$"
   ]
  },
  {
   "cell_type": "markdown",
   "id": "81156e8f",
   "metadata": {},
   "source": [
    "# 1. Short Answer"
   ]
  },
  {
   "cell_type": "markdown",
   "id": "b2cf4bc8",
   "metadata": {},
   "source": [
    "#### No Data Needed\n",
    "\n",
    "These problems do not require any data file. Rather, analyze them conceptually. "
   ]
  },
  {
   "cell_type": "markdown",
   "id": "4ed2ec27",
   "metadata": {},
   "source": [
    "## 1.\n",
    "\n",
    "Suppose that we find a set of factors that perfectly hedge any asset. Will these factors work as a linear factor pricing model? "
   ]
  },
  {
   "cell_type": "markdown",
   "id": "a08c35fc",
   "metadata": {},
   "source": [
    "A perfect hedge does not equal perfect pricing model. There is a difference between the E(R) explainability yielded by factors vs the capturing of all systematic risk components. "
   ]
  },
  {
   "cell_type": "markdown",
   "id": "2de7e3f3",
   "metadata": {},
   "source": [
    "## 2.\n",
    "\n",
    "If the Fama-French 3-factor model fit perfectly, would the Treynor ratio be equal for every asset?"
   ]
  },
  {
   "cell_type": "markdown",
   "id": "22b0a55b",
   "metadata": {},
   "source": [
    "The Treynor ratio measures the return in excess of the risk-free rate that an investment earns per unit of market risk (beta). Even if the Fama-French model perfectly explains returns, but they could still have different betas. Therefore, the Treynor ratio could differ across assets because it's dependent on the beta with the market factor only, not on size or value factors."
   ]
  },
  {
   "cell_type": "markdown",
   "id": "1b269599",
   "metadata": {},
   "source": [
    "## 3.\n",
    "\n",
    "Suppose the CAPM fits perfectly. Then assets which have higher time-series r-squared metrics on the market factor will have higher Sharpe ratios."
   ]
  },
  {
   "cell_type": "markdown",
   "id": "42bf9d3b",
   "metadata": {},
   "source": [
    "False. A higher R-squared does not necessarily equal higher Sharpe ratio. The Sharpe ratio is affected by both the asset's beta and its total standard deviation given perfect CAPM. An asset could have a high R-squared but also a high total risk or a low excess return, leading to a lower Sharpe ratio."
   ]
  },
  {
   "cell_type": "markdown",
   "id": "41aa46a6",
   "metadata": {},
   "source": [
    "## 4.\n",
    "\n",
    "Based on the case, what are two ways DFA hopes to generate attractive returns for investors?"
   ]
  },
  {
   "cell_type": "markdown",
   "id": "41ddbab6",
   "metadata": {},
   "source": [
    "Factor-Based Investing: DFA believes in strong research to best design portfolios that drive returns despite markets being 'efficient'.\n",
    "\n",
    "Efficient Implementation: DFA also focuses on implementing these strategies efficiently via focus on profitability and cost."
   ]
  },
  {
   "cell_type": "markdown",
   "id": "f2a8aede",
   "metadata": {},
   "source": [
    "## 5.\n",
    "\n",
    "We analyzed a strategy similar to \"AQR's Momentum Funds\" (mutual funds.) We found this implementation had much higher returns than the momentum factor of Fama French. What was a major drawback to this construction?"
   ]
  },
  {
   "cell_type": "markdown",
   "id": "a86aa028",
   "metadata": {},
   "source": [
    "THe index assumes monthly rebalancing, which might cause huge transaction costs."
   ]
  },
  {
   "cell_type": "markdown",
   "id": "e990eba3",
   "metadata": {},
   "source": [
    "## 6.\n",
    "\n",
    "From our analysis, momentum has had a negative mean return since 2009. Is this evidence against momentum as a pricing factor? Explain why this is a problem or why it is not a problem."
   ]
  },
  {
   "cell_type": "markdown",
   "id": "a5409d0c",
   "metadata": {},
   "source": [
    "Even though it is it is negative after 2009, momentum is still valuable given it's lack of correlation to other factors. This makes it a viable addition to potentially capture any \"stray\" explainability"
   ]
  },
  {
   "cell_type": "markdown",
   "id": "632ce7d4",
   "metadata": {},
   "source": [
    "***"
   ]
  },
  {
   "cell_type": "code",
   "execution_count": 30,
   "id": "67eca4aa",
   "metadata": {},
   "outputs": [],
   "source": [
    "import pandas as pd\n",
    "import numpy as np\n",
    "import matplotlib.pyplot as plt\n",
    "import seaborn as sns\n",
    "import statsmodels.api as sm\n",
    "import sys\n",
    "import os\n",
    "import warnings\n",
    "warnings.filterwarnings('ignore')\n",
    "\n",
    "#helper functions\n",
    "def freq_multiplier(input_freq, output_freq):\n",
    "    \"\"\"\n",
    "    multiplies the input frequency to the output frequency\n",
    "    \"\"\"\n",
    "    multiplier = 1\n",
    "\n",
    "    if input_freq == 'm':\n",
    "        multiplier *= 12\n",
    "    elif input_freq == 'w':\n",
    "        multiplier *= 52\n",
    "    elif input_freq == 'd':\n",
    "        multiplier *= 252\n",
    "    elif input_freq == 'a':\n",
    "        multiplier *= 1\n",
    "    else:\n",
    "        print('invalid input frequency')\n",
    "        return\n",
    "    \n",
    "    if output_freq == 'm':\n",
    "        multiplier /= 12\n",
    "    elif output_freq == 'w':\n",
    "        multiplier /= 52\n",
    "    elif output_freq == 'd':\n",
    "        multiplier /= 252\n",
    "    elif output_freq == 'a':\n",
    "        pass\n",
    "\n",
    "    return multiplier\n",
    "\n",
    "def calc_stats(df, input_freq = 'm', output_freq = 'a', ci_level = 0.05):\n",
    "    \"\"\"\n",
    "    Returns the Performance Stats for given set of returns\n",
    "        Inputs: \n",
    "            return_data - DataFrame with Date index and Returns for different assets/strategies.\n",
    "        Output:\n",
    "            summary_stats - DataFrame with mean return, vol, sharpe ratio. Skewness, Excess Kurtosis, Var (0.5) and\n",
    "                            CVaR (0.5) and drawdown based on monthly returns. \n",
    "    \"\"\"\n",
    "    multiplier = freq_multiplier(input_freq, output_freq)\n",
    "\n",
    "    # calculate mean, vol, sharpe, VaR(5%), CVaR(5%) for each item in df\n",
    "    summary_stats = df.mean().to_frame('Mean').apply(lambda x: x * multiplier)\n",
    "    summary_stats['Volatility'] = df.std() * np.sqrt(multiplier)\n",
    "    summary_stats['Sharpe Ratio'] = summary_stats['Mean'] / summary_stats['Volatility']\n",
    "    summary_stats['Skewness'] = df.skew()\n",
    "    summary_stats['Excess Kurtosis'] = df.kurtosis()\n",
    "    summary_stats[f'VaR ({ci_level*100}%)'] = df.quantile(ci_level, axis = 0)\n",
    "    summary_stats[f'CVaR ({ci_level*100}%)'] = df[df <= df.quantile(ci_level, axis = 0)].mean()\n",
    "\n",
    "    cum_returns = (1 + df).cumprod()\n",
    "    previous_peaks = cum_returns.cummax()\n",
    "    drawdowns = (cum_returns - previous_peaks) / previous_peaks\n",
    "    summary_stats['Max Drawdown'] = drawdowns.min()\n",
    "    # find the last date of the min drawdown\n",
    "    summary_stats['Peak'] = [previous_peaks[col][:drawdowns[col].idxmin()].idxmax() for col in previous_peaks.columns]\n",
    "    summary_stats['Bottom'] = drawdowns.idxmin()\n",
    "\n",
    "    # calculate recovery time\n",
    "    recovery_date = []\n",
    "    for col in cum_returns.columns:\n",
    "        prev_max = previous_peaks[col][:drawdowns[col].idxmin()].max()\n",
    "        recovery_cum = pd.DataFrame([cum_returns[col][drawdowns[col].idxmin():]]).T\n",
    "        recovery_date.append(recovery_cum[recovery_cum[col] >= prev_max].index.min())\n",
    "    summary_stats['Recovery'] = recovery_date   \n",
    "\n",
    "    return summary_stats\n",
    "\n",
    "def pre_post_calc_stats_comp(df, pre, post, input_freq = 'm', output_freq = 'a', ci_level = 0.05):\n",
    "    \"\"\"\n",
    "    Returns the performance stats for a given set of excess returns but comparing 2 time periods.\n",
    "    Uses the cal_stats function above:\n",
    "        Inputs: \n",
    "            return_data - DataFrame with Date index and Returns for different assets/strategies, as well as the pre and post periods in string format (e.g. '2014')\n",
    "        Output:\n",
    "            summary_stats - DataFrame with mean return, vol, sharpe ratio. Skewness, Excess Kurtosis, Var (0.5) and\n",
    "                            CVaR (0.5) and drawdown based on monthly returns. \n",
    "    \"\"\"\n",
    "    df.index = df.index.normalize()\n",
    "    df_pre = df.loc[:pre]\n",
    "    df_post = df.loc[post:]\n",
    "\n",
    "    stats_pre = calc_stats(df_pre, input_freq, output_freq, ci_level)\n",
    "    stats_post = calc_stats(df_post, input_freq, output_freq, ci_level)\n",
    "\n",
    "    # combined summary stats for all subsamples in one dataframe with period as column\n",
    "    stats_pre['Period'] = f'from {df_pre.index[0].strftime(\"%Y\")} to {pre}'\n",
    "    stats_post['Period'] = f'{post} - present'\n",
    "    summary_stats = pd.concat([stats_pre, stats_post]).reset_index().rename(columns = {'index': 'Factor'}).set_index(['Period', 'Factor'])\n",
    "    \n",
    "    return summary_stats\n",
    "\n",
    "def plot_time_series(df, pre = None, post = None):\n",
    "    \"\"\"\n",
    "    Plots the factors over time. Also, includes a line demarcating the pre and post periods if pre is available.\n",
    "    Will also throw the cumulative returns plot for pre and post if pre and post available.\n",
    "    \"\"\"\n",
    "    fig, ax = plt.subplots(figsize = (10, 5))\n",
    "    cum_returns = (1 + df).cumprod() - 1\n",
    "    cum_returns.plot(ax = ax)\n",
    "    ax.set_title('Cumulative Returns of Factors')\n",
    "    ax.set_xlabel('Date')\n",
    "    ax.set_ylabel('Cumulative Returns')\n",
    "    \n",
    "    if pre is not None and post is not None:\n",
    "        ax.axvline(x=pre, color='k', linestyle='--')\n",
    "        ax.legend(['Cumulative Returns', 'Pre', 'Post'])\n",
    "        \n",
    "        # Plot cumulative returns for pre period\n",
    "        fig_pre, ax_pre = plt.subplots(figsize=(10, 5))\n",
    "        cum_returns_pre = (1 + df.loc[:pre]).cumprod() - 1\n",
    "        cum_returns_pre.plot(ax=ax_pre)\n",
    "        ax_pre.set_title('Cumulative Returns of Factors - Pre')\n",
    "        ax_pre.set_xlabel('Date')\n",
    "        ax_pre.set_ylabel('Cumulative Returns')\n",
    "        \n",
    "        # Reset the cumulative returns for the post period\n",
    "        df_post = df.loc[post:]\n",
    "        df_post = df_post - df_post.iloc[0] + 1  # Reset to start from 1\n",
    "        cum_returns_post = df_post.cumprod() - 1\n",
    "        \n",
    "        fig_post, ax_post = plt.subplots(figsize=(10, 5))\n",
    "        cum_returns_post.plot(ax=ax_post)\n",
    "        ax_post.set_title('Cumulative Returns of Factors - Post')\n",
    "        ax_post.set_xlabel('Date')\n",
    "        ax_post.set_ylabel('Cumulative Returns')\n",
    "        \n",
    "        return fig, ax, fig_pre, ax_pre, fig_post, ax_post\n",
    "    else:\n",
    "        return fig, ax\n",
    "\n",
    "def plot_corr_matrix(df):\n",
    "    \"\"\"\n",
    "    plot correlation matrices for a set of time series data.\n",
    "    \"\"\"\n",
    "    fig, ax = plt.subplots(figsize = (10, 5))\n",
    "    sns.heatmap(df.corr(), annot = True, cmap = 'Blues', ax = ax)\n",
    "    ax.set_title('Correlation Matrix')\n",
    "    return fig, ax\n",
    "\n",
    "def tangency_weights(df, input_freq = 'm', output_freq = 'a'):\n",
    "    \"\"\"\n",
    "    Returns the weights of the tangency portfolio for given set of returns and covariance matrix.\n",
    "    Also returns the annualised returns, vol and sharpe ratio of each asset in the portfolio\n",
    "    \"\"\"\n",
    "    multipler = freq_multiplier(input_freq, output_freq)\n",
    "\n",
    "    # calculate the mean returns and covariance matrix\n",
    "    mean_returns = df.mean() * multipler\n",
    "    cov_matrix = df.cov() * multipler\n",
    "    cov_inv = np.linalg.inv(cov_matrix)\n",
    "\n",
    "    # calculate the tangency portfolio weights\n",
    "    tangency_weights = cov_inv.dot(mean_returns)\n",
    "    tangency_weights /= tangency_weights.sum()\n",
    "\n",
    "    #create a dataframe with weights and asset names\n",
    "    tangency_weights = pd.DataFrame(tangency_weights, index = df.columns, columns = ['Weights'])\n",
    "\n",
    "    return tangency_weights\n",
    "\n",
    "def linearRegression(seriesY,seriesX):\n",
    "    \n",
    "    mean =seriesY.mean()*12\n",
    "    sharpe = mean/(seriesY.std()*(12**0.5))\n",
    "    model = sm.OLS(seriesY,sm.add_constant(seriesX)).fit()\n",
    "    rsq = model.rsquared\n",
    "    \n",
    "    beta = pd.DataFrame(index= [seriesY.name])\n",
    "    \n",
    "    for i,x in enumerate(seriesX):\n",
    "         beta[x] = model.params[i+1]\n",
    "    \n",
    "    betaCols = [i+'Beta' for i in seriesX]\n",
    "    beta = beta.rename(columns = dict(zip(beta.columns,betaCols)))\n",
    "    \n",
    "    treynor = mean/beta[beta.columns[0]]\n",
    "    alpha = model.params[0]*12\n",
    "    information = alpha/(model.resid.std()*np.sqrt(12))\n",
    "    \n",
    "    RegressionStats = pd.DataFrame({'Mean Return':mean,'Sharpe Ratio':sharpe,'R Squared':rsq,\\\n",
    "                         'Alpha':alpha, 'Information Ratio':information, 'Treynor':treynor},index= [seriesY.name])\n",
    "    \n",
    "    return pd.concat([RegressionStats,beta], axis =1)\n",
    "\n",
    "def calc_pricing_regression(rets, factors, intercept=True, adj=12):\n",
    "    if intercept:\n",
    "        factors = sm.add_constant(factors)\n",
    "    summary = {f'{k} Beta': [] for k in factors.columns[1:]}\n",
    "    summary['Alpha']  = []\n",
    "    summary['R^2']    = []\n",
    "    for asset in rets.columns:\n",
    "        model = sm.OLS(rets[asset], factors).fit()\n",
    "        for k, _ in summary.items():\n",
    "            try:\n",
    "                summary[k].append(model.params[k[:-5]])\n",
    "            except:\n",
    "                pass\n",
    "        summary['R^2'].append(model.rsquared)\n",
    "        summary['Alpha'].append(model.params[0] * adj)\n",
    "            \n",
    "    return pd.DataFrame(summary, index=rets.columns)\n",
    "\n",
    "\n",
    "def calc_cross_sectional_regression(mean_rets, betas, intercept=False):\n",
    "    if intercept:\n",
    "        betas = sm.add_constant(betas)\n",
    "    model = sm.OLS(mean_rets, betas).fit()\n",
    "    params = model.params.to_frame('Cross Sectional Regression')\n",
    "    params.loc['R^2'] = model.rsquared\n",
    "    params.loc['MAE'] = model.resid.abs().mean() \n",
    "    return params\n"
   ]
  },
  {
   "cell_type": "code",
   "execution_count": 7,
   "id": "61439c84",
   "metadata": {},
   "outputs": [],
   "source": [
    "FILEIN = 'Documents/GitHub/finm-portfolio-2023/data/midterm_2_data.xlsx'\n",
    "sheet_des = 'descriptions'\n",
    "sheet_factorexrets = 'factors (excess returns)'\n",
    "sheet_portfolioexrets = 'portfolios (excess returns)'\n",
    "sheet_rfr = 'risk-free rate'\n",
    "\n",
    "# reference github repo finm-portfolio-2023\n",
    "des = pd.read_excel(FILEIN, sheet_name = sheet_des)\n",
    "factorexrets = pd.read_excel(FILEIN, sheet_name = sheet_factorexrets).set_index('Date')\n",
    "portfolioexrets = pd.read_excel(FILEIN, sheet_name = sheet_portfolioexrets).set_index('Date')\n",
    "rfr = pd.read_excel(FILEIN, sheet_name = sheet_rfr).set_index('Date')"
   ]
  },
  {
   "cell_type": "markdown",
   "id": "a78ee6f4",
   "metadata": {},
   "source": [
    "# 2. Linear Factor Pricing Models (LFPMs)"
   ]
  },
  {
   "cell_type": "markdown",
   "id": "cef5b592",
   "metadata": {},
   "source": [
    "This problem tests the following LFPM:\n",
    "\n",
    "$$\\begin{align}\n",
    "\\Eri = \\betamkt \\Emkt + \\betahml \\Ehml + \\betaumd \\Eumd\n",
    "\\end{align}$$"
   ]
  },
  {
   "cell_type": "markdown",
   "id": "ec8d1b59",
   "metadata": {},
   "source": [
    "## 1.\n",
    "\n",
    "### (8 pts)\n",
    "\n",
    "Estimate the **time-series (TS)** test of this pricing model. \n",
    "\n",
    "For each asset, report the following statistics:\n",
    "* annualized alpha\n",
    "* betas\n",
    "* r-squared"
   ]
  },
  {
   "cell_type": "code",
   "execution_count": 16,
   "id": "e2c8907b",
   "metadata": {},
   "outputs": [
    {
     "data": {
      "text/html": [
       "<div>\n",
       "<style scoped>\n",
       "    .dataframe tbody tr th:only-of-type {\n",
       "        vertical-align: middle;\n",
       "    }\n",
       "\n",
       "    .dataframe tbody tr th {\n",
       "        vertical-align: top;\n",
       "    }\n",
       "\n",
       "    .dataframe thead th {\n",
       "        text-align: right;\n",
       "    }\n",
       "</style>\n",
       "<table border=\"1\" class=\"dataframe\">\n",
       "  <thead>\n",
       "    <tr style=\"text-align: right;\">\n",
       "      <th></th>\n",
       "      <th>Alpha</th>\n",
       "      <th>MKTBeta</th>\n",
       "      <th>HMLBeta</th>\n",
       "      <th>UMDBeta</th>\n",
       "      <th>R Squared</th>\n",
       "    </tr>\n",
       "  </thead>\n",
       "  <tbody>\n",
       "    <tr>\n",
       "      <th>NoDur</th>\n",
       "      <td>0.029253</td>\n",
       "      <td>0.739522</td>\n",
       "      <td>0.204580</td>\n",
       "      <td>0.049333</td>\n",
       "      <td>0.617919</td>\n",
       "    </tr>\n",
       "    <tr>\n",
       "      <th>Durbl</th>\n",
       "      <td>0.010734</td>\n",
       "      <td>1.271865</td>\n",
       "      <td>0.173595</td>\n",
       "      <td>-0.320023</td>\n",
       "      <td>0.613493</td>\n",
       "    </tr>\n",
       "    <tr>\n",
       "      <th>Manuf</th>\n",
       "      <td>-0.000996</td>\n",
       "      <td>1.049482</td>\n",
       "      <td>0.197462</td>\n",
       "      <td>-0.036704</td>\n",
       "      <td>0.870268</td>\n",
       "    </tr>\n",
       "    <tr>\n",
       "      <th>Enrgy</th>\n",
       "      <td>-0.015117</td>\n",
       "      <td>0.992222</td>\n",
       "      <td>0.637006</td>\n",
       "      <td>0.075170</td>\n",
       "      <td>0.465602</td>\n",
       "    </tr>\n",
       "    <tr>\n",
       "      <th>HiTec</th>\n",
       "      <td>0.028207</td>\n",
       "      <td>1.154959</td>\n",
       "      <td>-0.637135</td>\n",
       "      <td>-0.140638</td>\n",
       "      <td>0.829498</td>\n",
       "    </tr>\n",
       "    <tr>\n",
       "      <th>Telcm</th>\n",
       "      <td>0.003506</td>\n",
       "      <td>0.837326</td>\n",
       "      <td>0.094363</td>\n",
       "      <td>-0.084518</td>\n",
       "      <td>0.588052</td>\n",
       "    </tr>\n",
       "    <tr>\n",
       "      <th>Shops</th>\n",
       "      <td>0.026739</td>\n",
       "      <td>0.946928</td>\n",
       "      <td>-0.042222</td>\n",
       "      <td>-0.015005</td>\n",
       "      <td>0.742161</td>\n",
       "    </tr>\n",
       "    <tr>\n",
       "      <th>Hlth</th>\n",
       "      <td>0.031862</td>\n",
       "      <td>0.757605</td>\n",
       "      <td>-0.119928</td>\n",
       "      <td>0.074058</td>\n",
       "      <td>0.580514</td>\n",
       "    </tr>\n",
       "    <tr>\n",
       "      <th>Utils</th>\n",
       "      <td>0.013710</td>\n",
       "      <td>0.527879</td>\n",
       "      <td>0.353033</td>\n",
       "      <td>0.108622</td>\n",
       "      <td>0.342654</td>\n",
       "    </tr>\n",
       "    <tr>\n",
       "      <th>Other</th>\n",
       "      <td>-0.019780</td>\n",
       "      <td>1.115433</td>\n",
       "      <td>0.426753</td>\n",
       "      <td>-0.048678</td>\n",
       "      <td>0.910098</td>\n",
       "    </tr>\n",
       "  </tbody>\n",
       "</table>\n",
       "</div>"
      ],
      "text/plain": [
       "          Alpha   MKTBeta   HMLBeta   UMDBeta  R Squared\n",
       "NoDur  0.029253  0.739522  0.204580  0.049333   0.617919\n",
       "Durbl  0.010734  1.271865  0.173595 -0.320023   0.613493\n",
       "Manuf -0.000996  1.049482  0.197462 -0.036704   0.870268\n",
       "Enrgy -0.015117  0.992222  0.637006  0.075170   0.465602\n",
       "HiTec  0.028207  1.154959 -0.637135 -0.140638   0.829498\n",
       "Telcm  0.003506  0.837326  0.094363 -0.084518   0.588052\n",
       "Shops  0.026739  0.946928 -0.042222 -0.015005   0.742161\n",
       "Hlth   0.031862  0.757605 -0.119928  0.074058   0.580514\n",
       "Utils  0.013710  0.527879  0.353033  0.108622   0.342654\n",
       "Other -0.019780  1.115433  0.426753 -0.048678   0.910098"
      ]
     },
     "execution_count": 16,
     "metadata": {},
     "output_type": "execute_result"
    }
   ],
   "source": [
    "frames = []\n",
    "\n",
    "for col in portfolioexrets:\n",
    "    p = linearRegression(portfolioexrets[col],factorexrets)\n",
    "    frames.append(p) \n",
    "\n",
    "TSRegression = pd.concat(frames)\n",
    "TSRegression[['Alpha', 'MKTBeta', 'HMLBeta','UMDBeta', 'R Squared']]"
   ]
  },
  {
   "cell_type": "markdown",
   "id": "31da8bdc",
   "metadata": {},
   "source": [
    "## 2.\n",
    "\n",
    "### (7pts)\n",
    "\n",
    "Estimate the **cross-sectional (CS)** test of the pricing model. \n",
    "\n",
    "Include an intercept in your cross-sectional test.\n",
    "\n",
    "Report the\n",
    "* annualized intercept\n",
    "* annualized regression coefficients\n",
    "* r-squared"
   ]
  },
  {
   "cell_type": "code",
   "execution_count": 28,
   "id": "9645885a",
   "metadata": {},
   "outputs": [
    {
     "data": {
      "text/html": [
       "<div>\n",
       "<style scoped>\n",
       "    .dataframe tbody tr th:only-of-type {\n",
       "        vertical-align: middle;\n",
       "    }\n",
       "\n",
       "    .dataframe tbody tr th {\n",
       "        vertical-align: top;\n",
       "    }\n",
       "\n",
       "    .dataframe thead th {\n",
       "        text-align: right;\n",
       "    }\n",
       "</style>\n",
       "<table border=\"1\" class=\"dataframe\">\n",
       "  <thead>\n",
       "    <tr style=\"text-align: right;\">\n",
       "      <th></th>\n",
       "      <th>const</th>\n",
       "      <th>MKTBeta</th>\n",
       "      <th>HMLBeta</th>\n",
       "      <th>UMDBeta</th>\n",
       "      <th>R^2</th>\n",
       "      <th>MAE</th>\n",
       "    </tr>\n",
       "  </thead>\n",
       "  <tbody>\n",
       "    <tr>\n",
       "      <th>Cross Sectional Regression</th>\n",
       "      <td>0.063716</td>\n",
       "      <td>0.031992</td>\n",
       "      <td>-0.015767</td>\n",
       "      <td>0.030301</td>\n",
       "      <td>0.366198</td>\n",
       "      <td>0.007915</td>\n",
       "    </tr>\n",
       "  </tbody>\n",
       "</table>\n",
       "</div>"
      ],
      "text/plain": [
       "                               const   MKTBeta   HMLBeta   UMDBeta       R^2  \\\n",
       "Cross Sectional Regression  0.063716  0.031992 -0.015767  0.030301  0.366198   \n",
       "\n",
       "                                 MAE  \n",
       "Cross Sectional Regression  0.007915  "
      ]
     },
     "execution_count": 28,
     "metadata": {},
     "output_type": "execute_result"
    }
   ],
   "source": [
    "# reporting annualized intercept, annualsied regression coefficients, R^2\n",
    "CSRegression = calc_cross_sectional_regression(TSRegression['Mean Return'], TSRegression[['MKTBeta', 'HMLBeta','UMDBeta']], intercept=True)\n",
    "CSRegression.T"
   ]
  },
  {
   "cell_type": "markdown",
   "id": "e43dcd2d",
   "metadata": {},
   "source": [
    "## 3.\n",
    "\n",
    "Report the annualized factor premia (expected excess returns of the three factors) as implied by each of the TS and CS estimations."
   ]
  },
  {
   "cell_type": "code",
   "execution_count": 20,
   "id": "c00728c3",
   "metadata": {},
   "outputs": [
    {
     "data": {
      "text/html": [
       "<div>\n",
       "<style scoped>\n",
       "    .dataframe tbody tr th:only-of-type {\n",
       "        vertical-align: middle;\n",
       "    }\n",
       "\n",
       "    .dataframe tbody tr th {\n",
       "        vertical-align: top;\n",
       "    }\n",
       "\n",
       "    .dataframe thead th {\n",
       "        text-align: right;\n",
       "    }\n",
       "</style>\n",
       "<table border=\"1\" class=\"dataframe\">\n",
       "  <thead>\n",
       "    <tr style=\"text-align: right;\">\n",
       "      <th></th>\n",
       "      <th>Time Series Premia</th>\n",
       "    </tr>\n",
       "  </thead>\n",
       "  <tbody>\n",
       "    <tr>\n",
       "      <th>MKTBeta</th>\n",
       "      <td>0.083853</td>\n",
       "    </tr>\n",
       "    <tr>\n",
       "      <th>HMLBeta</th>\n",
       "      <td>0.025028</td>\n",
       "    </tr>\n",
       "    <tr>\n",
       "      <th>UMDBeta</th>\n",
       "      <td>0.061692</td>\n",
       "    </tr>\n",
       "  </tbody>\n",
       "</table>\n",
       "</div>"
      ],
      "text/plain": [
       "         Time Series Premia\n",
       "MKTBeta            0.083853\n",
       "HMLBeta            0.025028\n",
       "UMDBeta            0.061692"
      ]
     },
     "execution_count": 20,
     "metadata": {},
     "output_type": "execute_result"
    }
   ],
   "source": [
    "time_series_premia = (factorexrets.mean()*12).to_frame('Time Series Premia')\n",
    "time_series_premia.index = [x+\"Beta\" for x in time_series_premia.index]\n",
    "time_series_premia"
   ]
  },
  {
   "cell_type": "code",
   "execution_count": 24,
   "id": "801ebc66",
   "metadata": {},
   "outputs": [
    {
     "data": {
      "text/html": [
       "<div>\n",
       "<style scoped>\n",
       "    .dataframe tbody tr th:only-of-type {\n",
       "        vertical-align: middle;\n",
       "    }\n",
       "\n",
       "    .dataframe tbody tr th {\n",
       "        vertical-align: top;\n",
       "    }\n",
       "\n",
       "    .dataframe thead th {\n",
       "        text-align: right;\n",
       "    }\n",
       "</style>\n",
       "<table border=\"1\" class=\"dataframe\">\n",
       "  <thead>\n",
       "    <tr style=\"text-align: right;\">\n",
       "      <th></th>\n",
       "      <th>Cross Sectional Regression</th>\n",
       "    </tr>\n",
       "  </thead>\n",
       "  <tbody>\n",
       "    <tr>\n",
       "      <th>MKTBeta</th>\n",
       "      <td>0.031992</td>\n",
       "    </tr>\n",
       "    <tr>\n",
       "      <th>HMLBeta</th>\n",
       "      <td>-0.015767</td>\n",
       "    </tr>\n",
       "    <tr>\n",
       "      <th>UMDBeta</th>\n",
       "      <td>0.030301</td>\n",
       "    </tr>\n",
       "  </tbody>\n",
       "</table>\n",
       "</div>"
      ],
      "text/plain": [
       "         Cross Sectional Regression\n",
       "MKTBeta                    0.031992\n",
       "HMLBeta                   -0.015767\n",
       "UMDBeta                    0.030301"
      ]
     },
     "execution_count": 24,
     "metadata": {},
     "output_type": "execute_result"
    }
   ],
   "source": [
    "CSRegression[1:4]"
   ]
  },
  {
   "cell_type": "markdown",
   "id": "eb4f7e39",
   "metadata": {},
   "source": [
    "## 4.\n",
    "\n",
    "Use the r-squared statistics from the TS and CS tests above to assess whether these factors are effective for decomposition and/or pricing.\n",
    "\n",
    "Be specific as to how the r-squared statistics from the TS and CS tests impact your conclusions."
   ]
  },
  {
   "cell_type": "code",
   "execution_count": 39,
   "id": "ef542963",
   "metadata": {},
   "outputs": [
    {
     "data": {
      "text/html": [
       "<div>\n",
       "<style scoped>\n",
       "    .dataframe tbody tr th:only-of-type {\n",
       "        vertical-align: middle;\n",
       "    }\n",
       "\n",
       "    .dataframe tbody tr th {\n",
       "        vertical-align: top;\n",
       "    }\n",
       "\n",
       "    .dataframe thead th {\n",
       "        text-align: right;\n",
       "    }\n",
       "</style>\n",
       "<table border=\"1\" class=\"dataframe\">\n",
       "  <thead>\n",
       "    <tr style=\"text-align: right;\">\n",
       "      <th></th>\n",
       "      <th>R Squared</th>\n",
       "    </tr>\n",
       "  </thead>\n",
       "  <tbody>\n",
       "    <tr>\n",
       "      <th>Time Series</th>\n",
       "      <td>0.656026</td>\n",
       "    </tr>\n",
       "    <tr>\n",
       "      <th>Cross Sectional</th>\n",
       "      <td>0.366198</td>\n",
       "    </tr>\n",
       "  </tbody>\n",
       "</table>\n",
       "</div>"
      ],
      "text/plain": [
       "                 R Squared\n",
       "Time Series       0.656026\n",
       "Cross Sectional   0.366198"
      ]
     },
     "execution_count": 39,
     "metadata": {},
     "output_type": "execute_result"
    }
   ],
   "source": [
    "#TS and CS R^2 in a dataframe\n",
    "R2 = pd.DataFrame({'Time Series': TSRegression['R Squared'].mean(), \n",
    "                'Cross Sectional': CSRegression.loc['R^2']})\n",
    "R2.T.rename(columns = {'Cross Sectional Regression': 'R Squared'})"
   ]
  },
  {
   "cell_type": "markdown",
   "id": "3d397e85",
   "metadata": {},
   "source": [
    "Comparing the R Squared value, based on my data above. I seems like time series explains about 65% of the data, which is moderate in terms of moderate explainability while for cross sectional, it only has low explainability of about 36%.\n",
    "\n",
    "Hence, looking at these statistics, it does not look like this factors would be good for the decomposition or pricing of these assets. They are moderate at the best."
   ]
  },
  {
   "cell_type": "markdown",
   "id": "621a9d6f",
   "metadata": {},
   "source": [
    "## 5.\n",
    "\n",
    "Report the annualized pricing mean absolute error (MAE) implied by each of the TS and CS estimations."
   ]
  },
  {
   "cell_type": "code",
   "execution_count": 40,
   "id": "4962f08e",
   "metadata": {},
   "outputs": [
    {
     "data": {
      "text/html": [
       "<div>\n",
       "<style scoped>\n",
       "    .dataframe tbody tr th:only-of-type {\n",
       "        vertical-align: middle;\n",
       "    }\n",
       "\n",
       "    .dataframe tbody tr th {\n",
       "        vertical-align: top;\n",
       "    }\n",
       "\n",
       "    .dataframe thead th {\n",
       "        text-align: right;\n",
       "    }\n",
       "</style>\n",
       "<table border=\"1\" class=\"dataframe\">\n",
       "  <thead>\n",
       "    <tr style=\"text-align: right;\">\n",
       "      <th></th>\n",
       "      <th>MAE</th>\n",
       "    </tr>\n",
       "  </thead>\n",
       "  <tbody>\n",
       "    <tr>\n",
       "      <th>Time Series</th>\n",
       "      <td>0.090712</td>\n",
       "    </tr>\n",
       "    <tr>\n",
       "      <th>Cross Sectional</th>\n",
       "      <td>0.007915</td>\n",
       "    </tr>\n",
       "  </tbody>\n",
       "</table>\n",
       "</div>"
      ],
      "text/plain": [
       "                      MAE\n",
       "Time Series      0.090712\n",
       "Cross Sectional  0.007915"
      ]
     },
     "execution_count": 40,
     "metadata": {},
     "output_type": "execute_result"
    }
   ],
   "source": [
    "#MAE for TS and CS regression in a dataframe\n",
    "MAE = pd.DataFrame({'Time Series': TSRegression['Mean Return'].abs().mean(), \n",
    "                'Cross Sectional': CSRegression.loc['MAE']})\n",
    "MAE.T.rename(columns = {'Cross Sectional Regression': 'MAE'})"
   ]
  },
  {
   "cell_type": "code",
   "execution_count": 42,
   "id": "2d66bf21",
   "metadata": {},
   "outputs": [
    {
     "data": {
      "text/html": [
       "<div>\n",
       "<style scoped>\n",
       "    .dataframe tbody tr th:only-of-type {\n",
       "        vertical-align: middle;\n",
       "    }\n",
       "\n",
       "    .dataframe tbody tr th {\n",
       "        vertical-align: top;\n",
       "    }\n",
       "\n",
       "    .dataframe thead th {\n",
       "        text-align: right;\n",
       "    }\n",
       "</style>\n",
       "<table border=\"1\" class=\"dataframe\">\n",
       "  <thead>\n",
       "    <tr style=\"text-align: right;\">\n",
       "      <th></th>\n",
       "      <th>Cross Sectional Regression</th>\n",
       "    </tr>\n",
       "  </thead>\n",
       "  <tbody>\n",
       "    <tr>\n",
       "      <th>const</th>\n",
       "      <td>0.063716</td>\n",
       "    </tr>\n",
       "    <tr>\n",
       "      <th>MKTBeta</th>\n",
       "      <td>0.031992</td>\n",
       "    </tr>\n",
       "    <tr>\n",
       "      <th>HMLBeta</th>\n",
       "      <td>-0.015767</td>\n",
       "    </tr>\n",
       "    <tr>\n",
       "      <th>UMDBeta</th>\n",
       "      <td>0.030301</td>\n",
       "    </tr>\n",
       "    <tr>\n",
       "      <th>R^2</th>\n",
       "      <td>0.366198</td>\n",
       "    </tr>\n",
       "    <tr>\n",
       "      <th>MAE</th>\n",
       "      <td>0.007915</td>\n",
       "    </tr>\n",
       "  </tbody>\n",
       "</table>\n",
       "</div>"
      ],
      "text/plain": [
       "         Cross Sectional Regression\n",
       "const                      0.063716\n",
       "MKTBeta                    0.031992\n",
       "HMLBeta                   -0.015767\n",
       "UMDBeta                    0.030301\n",
       "R^2                        0.366198\n",
       "MAE                        0.007915"
      ]
     },
     "execution_count": 42,
     "metadata": {},
     "output_type": "execute_result"
    }
   ],
   "source": [
    "CSRegression"
   ]
  },
  {
   "cell_type": "markdown",
   "id": "61e91b41",
   "metadata": {},
   "source": [
    "## 6.\n",
    "\n",
    "Which asset has the highest premium as implied by the TS estimation? And as implied by the CS estimation? (For the latter, feel free to include the cross-sectional intercept.)"
   ]
  },
  {
   "cell_type": "code",
   "execution_count": 43,
   "id": "52b4226a",
   "metadata": {},
   "outputs": [
    {
     "name": "stdout",
     "output_type": "stream",
     "text": [
      "TS Time Series Premia    0.083853\n",
      "Name: MKTBeta, dtype: float64\n",
      "CS Cross Sectional Regression    MKTBeta\n",
      "dtype: object\n"
     ]
    }
   ],
   "source": [
    "#Which asset has the highest premium as implied by the TS estimation? And as implied by the CS estimation? (For the latter, feel free to include the cross-sectional intercept.)\n",
    "# TS\n",
    "print('TS', time_series_premia.loc[time_series_premia['Time Series Premia'].idxmax()])\n",
    "\n",
    "# CS, including intercept\n",
    "print('CS', CSRegression[1:4].idxmax())\n"
   ]
  },
  {
   "cell_type": "markdown",
   "id": "c2d15e5e",
   "metadata": {},
   "source": [
    "For both, it seems that the highest premia belong to the MKT."
   ]
  },
  {
   "cell_type": "markdown",
   "id": "0a8eda25",
   "metadata": {},
   "source": [
    "***"
   ]
  },
  {
   "cell_type": "markdown",
   "id": "45d9f9ca",
   "metadata": {},
   "source": [
    "# 3. Additional Analysis"
   ]
  },
  {
   "cell_type": "markdown",
   "id": "b6e16122",
   "metadata": {},
   "source": [
    "## 1. \n",
    "\n",
    "Consider the three-factor pricing model above. How can we assess whether all three factors are useful in this pricing model? \n",
    "\n",
    "Specifically, discuss whether the previously estimated regression betas would be informative. If not, what other statistic could we calculate?"
   ]
  },
  {
   "cell_type": "markdown",
   "id": "2338ccdb",
   "metadata": {},
   "source": [
    "The t-statistics for these betas would indicate whether each factor is statistically significant individually. We could also use the F-test to check the joint significance of these factors combined. "
   ]
  },
  {
   "cell_type": "markdown",
   "id": "4917ec2d",
   "metadata": {},
   "source": [
    "## 2.\n",
    "\n",
    "Suppose we are testing the 3-factor model above, and now we want to allow for time-varying betas.\n",
    "\n",
    "How could we test the model while allowing for this?\n",
    "\n",
    "Be specific about the number of regressions we would run and the nature of these regressions."
   ]
  },
  {
   "cell_type": "markdown",
   "id": "faa5c1cc",
   "metadata": {},
   "source": [
    "We can perform a rolling regression, i.e.:\n",
    "- Perform a series of regressions over rolling windows of time. For instance, if you have monthly data, you might use a 1-year rolling window, which means running a regression using the first 12 months of data, then moving one month forward and running the regression again, and so on.\n",
    "- Each regression would yield a set of betas for that particular time period, which could then be analyzed to see how they change over time.\n",
    "- The number of regressions would equal the total number of periods minus the number of periods in the window, plus one."
   ]
  },
  {
   "cell_type": "markdown",
   "id": "9b5ae486",
   "metadata": {},
   "source": [
    "## 3.\n",
    "\n",
    "State one advantage and one disadvantage of using the CS estimation as opposed to the TS estimation in fitting the LFPM to the data."
   ]
  },
  {
   "cell_type": "markdown",
   "id": "fdc5bc9b",
   "metadata": {},
   "source": [
    "CS advantage:\n",
    "- Uses the variability across different assets at a single point in time to estimate the factor premiums. This can provide a more comprehensive view of how different assets are priced relative to each other\n",
    "\n",
    "CS disadvantage:\n",
    "- Assumes constant beta. Is a limitation if betas vary over time"
   ]
  },
  {
   "cell_type": "markdown",
   "id": "ab345650",
   "metadata": {},
   "source": [
    "## 4.\n",
    "\n",
    "Suppose we are investing in just the assets included in our data set. We want to implement a momentum strategy.\n",
    "\n",
    "Relative to the momentum strategies we studied, do you expect this strategy would have higher or lower...\n",
    "* mean\n",
    "* volatility\n",
    "\n",
    "Explain."
   ]
  },
  {
   "cell_type": "markdown",
   "id": "47d27db6",
   "metadata": {},
   "source": [
    "Given that we studied that momentum has low correlation to other factors, we assume that adding momentum should provide some form of diversification. \n",
    "i.e. we would see our sharpe improve although I can say that our mean and volatility should both go down"
   ]
  },
  {
   "cell_type": "markdown",
   "id": "ecd7b8ee",
   "metadata": {},
   "source": [
    "***"
   ]
  },
  {
   "cell_type": "markdown",
   "id": "4bba6573",
   "metadata": {},
   "source": [
    "# 4. Returns Over Time"
   ]
  },
  {
   "cell_type": "markdown",
   "id": "fbce55a1",
   "metadata": {},
   "source": [
    "## 1.\n",
    "\n",
    "If Barnstable’s assumptions hold, (log iid returns, normally distributed,) then in what sense is an investment safer in the long-run? And in what sense is it riskier in the long-run?"
   ]
  },
  {
   "cell_type": "markdown",
   "id": "32d76267",
   "metadata": {},
   "source": [
    "An investment would be safer in the long run due to the compounding of returns and the law of large numbers. However, it can also be riskier due to the absolute size of potential losses in dollar terms and the potential for long-term shifts in market conditions that are not captured by historical return distributions"
   ]
  },
  {
   "cell_type": "markdown",
   "id": "26e19f68",
   "metadata": {},
   "source": [
    "## 2. \n",
    "\n",
    "### (10pts)\n",
    "\n",
    "Data \n",
    "* Make use of the `risk-free rate` tab.\n",
    "* Construct the **total** factor returns by adding the risk-free rate to the excess `MKT` and `HML` factor returns.\n",
    "\n",
    "Assumptions\n",
    "* The total returns are lognormally distributed and iid. \n",
    "\n",
    "Report the probability that `MKT` will outperform `HML` over the following 5 years."
   ]
  },
  {
   "cell_type": "code",
   "execution_count": 48,
   "id": "c5779590",
   "metadata": {},
   "outputs": [
    {
     "name": "stdout",
     "output_type": "stream",
     "text": [
      "Probability MKT will outperform HML over the following 5 years: 0.7530567656887349\n"
     ]
    }
   ],
   "source": [
    "from scipy.stats import norm\n",
    "#take MKT and HML and add risk free rate to get the total return\n",
    "TR = factorexrets[['MKT', 'HML']].add(rfr['RF'], axis=0)\n",
    "\n",
    "#calculate probability MKT will outperform HML over the following 5 years given lognormal distribution and iid\n",
    "mean = TR.mean()*60\n",
    "std = TR.std()*np.sqrt(60)\n",
    "mean_diff = mean['MKT'] - mean['HML']\n",
    "std_diff = np.sqrt(std['MKT'] ** 2 + std['HML'] ** 2)\n",
    "prob = 1 - norm.cdf(0, mean_diff, std_diff)\n",
    "print('Probability MKT will outperform HML over the following 5 years:', prob)\n"
   ]
  },
  {
   "cell_type": "markdown",
   "id": "deca7ce8",
   "metadata": {},
   "source": [
    "***"
   ]
  }
 ],
 "metadata": {
  "hide_input": false,
  "kernelspec": {
   "display_name": "Python 3 (ipykernel)",
   "language": "python",
   "name": "python3"
  },
  "language_info": {
   "codemirror_mode": {
    "name": "ipython",
    "version": 3
   },
   "file_extension": ".py",
   "mimetype": "text/x-python",
   "name": "python",
   "nbconvert_exporter": "python",
   "pygments_lexer": "ipython3",
   "version": "3.11.0"
  }
 },
 "nbformat": 4,
 "nbformat_minor": 5
}
