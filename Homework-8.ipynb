{
 "cells": [
  {
   "cell_type": "markdown",
   "metadata": {},
   "source": [
    "# Homework 8"
   ]
  },
  {
   "cell_type": "markdown",
   "metadata": {},
   "source": [
    "## 1. Conceptual issues for LTCM"
   ]
  },
  {
   "cell_type": "markdown",
   "metadata": {},
   "source": [
    "### 1.1 Describe LTCM's investment strategy with regard to the following aspects:\n",
    "- Securities traded\n",
    "- Trading Frequency\n",
    "- Skewness (Do they seek many small wins or a few big hits?)\n",
    "- Forecasting (What is behind their selection of trades?)**"
   ]
  },
  {
   "cell_type": "markdown",
   "metadata": {},
   "source": [
    "LTCM primarily engaged in convergence and relative value strategies. They traded various instruments from (Fixed Income, FX, Equities, Derivatives), but their largest trades were in the fixed income space.\n",
    "\n",
    "They traded fairly mid-to-long term, but were not against going short term. True to their name, they believed that their positions could eventually converge to fair value and were willing to hold on to them but at the same time could easily unwind positions if the value was realised quickly. \n",
    "\n",
    "Given that their model works on exploiting small mispricings or arbitrage opportunities (which tend not to be large gaps), we would say they seek many small wins which they \"lever up\". \n",
    "\n",
    "LTCM's trades involved complex prop trading strats driven by sophisticated or complicated models. They had several employees who were experts in quantitative analysis and modeling, and sought to create an edge via their talent (i.e. belief that their advanced models could predict and exploit small inefficiencies in the market better than the competition)"
   ]
  },
  {
   "cell_type": "markdown",
   "metadata": {},
   "source": [
    "### 1.2 What are LTCM’s biggest advantages over its competitors?"
   ]
  },
  {
   "cell_type": "markdown",
   "metadata": {},
   "source": [
    "LTCM's biggest advantage was its brand name partnership and management team. Many of them had exceptional resumes and were very high-profile in the finance sector. This was a major draw for capital injection into LTCM and also gave them an intellectual edge (both in terms of the work the team could do and the people the team could subsequently attract). \n",
    "\n",
    "This created a flywheel of opportunities in terms of eventual models' sophistication, access to funding and liquidity, ability to leverage (relative to other firms), and so on. "
   ]
  },
  {
   "cell_type": "markdown",
   "metadata": {},
   "source": [
    "### 1.3 The case discusses four types of funding risk facing LTCM:\n",
    "- collateral haircuts\n",
    "- repo maturity\n",
    "- equity redemption\n",
    "- loan access\n",
    "\n",
    "The case discusses specific ways in which LTCM manages each of these risks. Briefly discuss them."
   ]
  },
  {
   "cell_type": "markdown",
   "metadata": {},
   "source": [
    "1. Collateral Haircuts: case page 15 last paragraph on modeling financing haircuts\n",
    "2. Repo Maturity: case page 14 on average maturity monitoring\n",
    "3. Equity Redemption: case page 14 on lock up\n",
    "4. Loan Access: case page 14 on syndicate of revolving credit"
   ]
  },
  {
   "cell_type": "markdown",
   "metadata": {},
   "source": [
    "### 1.4 LTCM is largely in the business of selling liquidity and volatility. Describe how LTCM accounts for liquidity risk in their quantitative measurements."
   ]
  },
  {
   "cell_type": "markdown",
   "metadata": {},
   "source": [
    "The firm mostly viewed liquidity risk as an opportunity as they deem it to be short lived relative to their investment horizon."
   ]
  },
  {
   "cell_type": "markdown",
   "metadata": {},
   "source": [
    "### 1.5 Is leverage risk currently a concern for LTCM?"
   ]
  },
  {
   "cell_type": "markdown",
   "metadata": {},
   "source": [
    "As of the time of the article, yes it is and should be as LTCM heavily uses leverage to set up its trades. "
   ]
  },
  {
   "cell_type": "markdown",
   "metadata": {},
   "source": [
    "### 1.6 Many strategies of LTCM rely on converging spreads. LTCM feels that these are almost win/win situations because of the fact that if the spread converges, they make money. If it diverges, the trade becomes even more attractive, as convergence is still expected at a future date. What is the risk in these convergence trades?"
   ]
  },
  {
   "cell_type": "markdown",
   "metadata": {},
   "source": []
  },
  {
   "cell_type": "markdown",
   "metadata": {},
   "source": [
    "## 2. LTCM Risk Decomposition\n",
    "- On Canvas, find the data file, “ltcm exhibits data.xlsx”. Get the gross and net (total) returns of LTCM from “Exhibit 2”.\n",
    "- Get the returns on SPY as well as the risk-free rate from the file, “gmo analysis data”."
   ]
  },
  {
   "cell_type": "code",
   "execution_count": 85,
   "metadata": {},
   "outputs": [],
   "source": [
    "import pandas as pd\n",
    "import numpy as np\n",
    "import matplotlib.pyplot as plt\n",
    "import seaborn as sns\n",
    "import statsmodels.api as sm\n",
    "\n",
    "import sys\n",
    "import os\n",
    "import warnings\n",
    "warnings.filterwarnings('ignore')\n",
    "\n",
    "#helper functions\n",
    "def freq_multiplier(input_freq, output_freq):\n",
    "    \"\"\"\n",
    "    multiplies the input frequency to the output frequency\n",
    "    \"\"\"\n",
    "    multiplier = 1\n",
    "\n",
    "    if input_freq == 'm':\n",
    "        multiplier *= 12\n",
    "    elif input_freq == 'w':\n",
    "        multiplier *= 52\n",
    "    elif input_freq == 'd':\n",
    "        multiplier *= 252\n",
    "    elif input_freq == 'a':\n",
    "        multiplier *= 1\n",
    "    else:\n",
    "        print('invalid input frequency')\n",
    "        return\n",
    "    \n",
    "    if output_freq == 'm':\n",
    "        multiplier /= 12\n",
    "    elif output_freq == 'w':\n",
    "        multiplier /= 52\n",
    "    elif output_freq == 'd':\n",
    "        multiplier /= 252\n",
    "    elif output_freq == 'a':\n",
    "        pass\n",
    "\n",
    "    return multiplier\n",
    "\n",
    "def calc_stats(df, input_freq = 'm', output_freq = 'a', ci_level = 0.05):\n",
    "    \"\"\"\n",
    "    Returns the Performance Stats for given set of returns\n",
    "        Inputs: \n",
    "            return_data - DataFrame with Date index and Returns for different assets/strategies.\n",
    "        Output:\n",
    "            summary_stats - DataFrame with mean return, vol, sharpe ratio. Skewness, Excess Kurtosis, Var (0.5) and\n",
    "                            CVaR (0.5) and drawdown based on monthly returns. \n",
    "    \"\"\"\n",
    "    multiplier = freq_multiplier(input_freq, output_freq)\n",
    "\n",
    "    # calculate mean, vol, sharpe, VaR(5%), CVaR(5%) for each item in df\n",
    "    summary_stats = df.mean().to_frame('Mean').apply(lambda x: x * multiplier)\n",
    "    summary_stats['Volatility'] = df.std() * np.sqrt(multiplier)\n",
    "    summary_stats['Sharpe Ratio'] = summary_stats['Mean'] / summary_stats['Volatility']\n",
    "    summary_stats['Skewness'] = df.skew()\n",
    "    summary_stats['Excess Kurtosis'] = df.kurtosis()\n",
    "    summary_stats[f'VaR ({ci_level*100}%)'] = df.quantile(ci_level, axis = 0)\n",
    "    summary_stats[f'CVaR ({ci_level*100}%)'] = df[df <= df.quantile(ci_level, axis = 0)].mean()\n",
    "\n",
    "    summary_stats['Min Return'] = df.min()\n",
    "    summary_stats['Max Return'] = df.max()\n",
    "    cum_returns = (1 + df).cumprod()\n",
    "    previous_peaks = cum_returns.cummax()\n",
    "    drawdowns = (cum_returns - previous_peaks) / previous_peaks\n",
    "    summary_stats['Max Drawdown'] = drawdowns.min()\n",
    "    # find the last date of the min drawdown\n",
    "    summary_stats['Peak'] = [previous_peaks[col][:drawdowns[col].idxmin()].idxmax() for col in previous_peaks.columns]\n",
    "    summary_stats['Bottom'] = drawdowns.idxmin()\n",
    "\n",
    "    # calculate recovery time\n",
    "    recovery_date = []\n",
    "    for col in cum_returns.columns:\n",
    "        prev_max = previous_peaks[col][:drawdowns[col].idxmin()].max()\n",
    "        recovery_cum = pd.DataFrame([cum_returns[col][drawdowns[col].idxmin():]]).T\n",
    "        recovery_date.append(recovery_cum[recovery_cum[col] >= prev_max].index.min())\n",
    "    summary_stats['Recovery'] = recovery_date   \n",
    "\n",
    "    return summary_stats\n",
    "\n",
    "def pre_post_calc_stats_comp(df, pre, post, input_freq = 'm', output_freq = 'a', ci_level = 0.05):\n",
    "    \"\"\"\n",
    "    Returns the performance stats for a given set of excess returns but comparing 2 time periods.\n",
    "    Uses the cal_stats function above:\n",
    "        Inputs: \n",
    "            return_data - DataFrame with Date index and Returns for different assets/strategies, as well as the pre and post periods in string format (e.g. '2014')\n",
    "        Output:\n",
    "            summary_stats - DataFrame with mean return, vol, sharpe ratio. Skewness, Excess Kurtosis, Var (0.5) and\n",
    "                            CVaR (0.5) and drawdown based on monthly returns. \n",
    "    \"\"\"\n",
    "    df.index = df.index.normalize()\n",
    "    df_pre = df.loc[:pre]\n",
    "    df_post = df.loc[post:]\n",
    "\n",
    "    stats_pre = calc_stats(df_pre, input_freq, output_freq, ci_level)\n",
    "    stats_post = calc_stats(df_post, input_freq, output_freq, ci_level)\n",
    "\n",
    "    # combined summary stats for all subsamples in one dataframe with period as column\n",
    "    stats_pre['Period'] = f'from {df_pre.index[0].strftime(\"%Y\")} to {pre}'\n",
    "    stats_post['Period'] = f'{post} - present'\n",
    "    summary_stats = pd.concat([stats_pre, stats_post]).reset_index().rename(columns = {'index': 'Factor'}).set_index(['Period', 'Factor'])\n",
    "    \n",
    "    return summary_stats\n",
    "\n",
    "def plot_time_series(df, pre = None, post = None):\n",
    "    \"\"\"\n",
    "    Plots the factors over time. Also, includes a line demarcating the pre and post periods if pre is available.\n",
    "    Will also throw the cumulative returns plot for pre and post if pre and post available.\n",
    "    \"\"\"\n",
    "    fig, ax = plt.subplots(figsize = (10, 5))\n",
    "    cum_returns = (1 + df).cumprod() - 1\n",
    "    cum_returns.plot(ax = ax)\n",
    "    ax.set_title('Cumulative Returns of Factors')\n",
    "    ax.set_xlabel('Date')\n",
    "    ax.set_ylabel('Cumulative Returns')\n",
    "    \n",
    "    if pre is not None and post is not None:\n",
    "        ax.axvline(x=pre, color='k', linestyle='--')\n",
    "        ax.legend(['Cumulative Returns', 'Pre', 'Post'])\n",
    "        \n",
    "        # Plot cumulative returns for pre period\n",
    "        fig_pre, ax_pre = plt.subplots(figsize=(10, 5))\n",
    "        cum_returns_pre = (1 + df.loc[:pre]).cumprod() - 1\n",
    "        cum_returns_pre.plot(ax=ax_pre)\n",
    "        ax_pre.set_title('Cumulative Returns of Factors - Pre')\n",
    "        ax_pre.set_xlabel('Date')\n",
    "        ax_pre.set_ylabel('Cumulative Returns')\n",
    "        \n",
    "        # Reset the cumulative returns for the post period\n",
    "        df_post = df.loc[post:]\n",
    "        df_post = df_post - df_post.iloc[0] + 1  # Reset to start from 1\n",
    "        cum_returns_post = df_post.cumprod() - 1\n",
    "        \n",
    "        fig_post, ax_post = plt.subplots(figsize=(10, 5))\n",
    "        cum_returns_post.plot(ax=ax_post)\n",
    "        ax_post.set_title('Cumulative Returns of Factors - Post')\n",
    "        ax_post.set_xlabel('Date')\n",
    "        ax_post.set_ylabel('Cumulative Returns')\n",
    "        \n",
    "        return fig, ax, fig_pre, ax_pre, fig_post, ax_post\n",
    "    else:\n",
    "        return fig, ax\n",
    "\n",
    "def plot_corr_matrix(df):\n",
    "    \"\"\"\n",
    "    plot correlation matrices for a set of time series data.\n",
    "    \"\"\"\n",
    "    fig, ax = plt.subplots(figsize = (10, 5))\n",
    "    sns.heatmap(df.corr(), annot = True, cmap = 'Blues', ax = ax)\n",
    "    ax.set_title('Correlation Matrix')\n",
    "    return fig, ax\n",
    "\n",
    "def tangency_weights(df, input_freq = 'm', output_freq = 'a'):\n",
    "    \"\"\"\n",
    "    Returns the weights of the tangency portfolio for given set of returns and covariance matrix.\n",
    "    Also returns the annualised returns, vol and sharpe ratio of each asset in the portfolio\n",
    "    \"\"\"\n",
    "    multipler = freq_multiplier(input_freq, output_freq)\n",
    "\n",
    "    # calculate the mean returns and covariance matrix\n",
    "    mean_returns = df.mean() * multipler\n",
    "    cov_matrix = df.cov() * multipler\n",
    "    cov_inv = np.linalg.inv(cov_matrix)\n",
    "\n",
    "    # calculate the tangency portfolio weights\n",
    "    tangency_weights = cov_inv.dot(mean_returns)\n",
    "    tangency_weights /= tangency_weights.sum()\n",
    "\n",
    "    #create a dataframe with weights and asset names\n",
    "    tangency_weights = pd.DataFrame(tangency_weights, index = df.columns, columns = ['Weights'])\n",
    "\n",
    "    return tangency_weights\n",
    "\n",
    "def regression_based_performance(factor, fund_ret, rf=0, input_freq='m', output_freq='a', constant=True, model_type='linear', k1=None, k2=None):\n",
    "    \"\"\"\n",
    "    Returns the regression based performance of a factor against a fund.\n",
    "    Allows for linear, quadratic, and piecewise linear regression models.\n",
    "    \"\"\"\n",
    "    # Convert the input frequency to output frequency for the factor and fund returns\n",
    "    multiplier = freq_multiplier(input_freq, output_freq)\n",
    "    \n",
    "    # Create the design matrix based on the model type\n",
    "    if model_type == 'linear':\n",
    "        X = sm.add_constant(factor) if constant else factor\n",
    "    elif model_type == 'quadratic':\n",
    "        X = sm.add_constant(np.column_stack((factor, factor**2))) if constant else np.column_stack((factor, factor**2))\n",
    "    elif model_type == 'piecewise':\n",
    "        if k1 is None or k2 is None:\n",
    "            raise ValueError(\"k1 and k2 must be provided for piecewise linear regression\")\n",
    "        # Calculate the piecewise components\n",
    "        upside = np.maximum(factor - k1, 0)\n",
    "        downside = np.maximum(k2 - factor, 0)\n",
    "        X = sm.add_constant(np.column_stack((factor, upside, downside))) if constant else np.column_stack((factor, upside, downside))\n",
    "    else:\n",
    "        raise ValueError(\"model_type must be 'linear', 'quadratic', or 'piecewise'\")\n",
    "    \n",
    "    # Fit the model\n",
    "    model = sm.OLS(fund_ret, X, missing='drop').fit()\n",
    "    \n",
    "    # Extract the model parameters\n",
    "    if constant:\n",
    "        alpha = round(model.params['const'] * multiplier, 6)\n",
    "        beta = model.params[1]\n",
    "    else:\n",
    "        alpha = 0\n",
    "        beta = model.params[0]\n",
    "\n",
    "    # Additional parameters for quadratic and piecewise models\n",
    "    beta_squared = model.params[2] if model_type == 'quadratic' else None\n",
    "    beta_u = model.params[2] if model_type == 'piecewise' else None\n",
    "    beta_d = model.params[3] if model_type == 'piecewise' else None\n",
    "\n",
    "    # Calculate the annualized metrics\n",
    "    r_squared = model.rsquared\n",
    "    treynor_ratio = (fund_ret.mean() - rf) * multiplier / beta\n",
    "    tracking_error = np.sqrt(model.resid.var() * multiplier)\n",
    "    information_ratio = (alpha / multiplier) / tracking_error\n",
    "\n",
    "    # Create the results DataFrame\n",
    "    data = {\n",
    "        'alpha': alpha,\n",
    "        'beta': beta,\n",
    "        'r_squared': r_squared,\n",
    "        'tracking_error': tracking_error,\n",
    "        'treynor_ratio': treynor_ratio,\n",
    "        'information_ratio': information_ratio\n",
    "    }\n",
    "    if model_type == 'quadratic':\n",
    "        data['beta_squared'] = beta_squared\n",
    "    if model_type == 'piecewise':\n",
    "        data['beta_u'] = beta_u\n",
    "        data['beta_d'] = beta_d\n",
    "\n",
    "    regression_results = pd.DataFrame(data, index=['Value']).T\n",
    "\n",
    "    return regression_results, model"
   ]
  },
  {
   "cell_type": "code",
   "execution_count": 74,
   "metadata": {},
   "outputs": [],
   "source": [
    "FILEIN1 = '/Users/kaiwentay/Library/Mobile Documents/com~apple~CloudDocs/Documents/GitHub/finm-portfolio-2022/data/gmo_analysis_data.xlsx'\n",
    "FILEIN2 = '/Users/kaiwentay/Library/Mobile Documents/com~apple~CloudDocs/Documents/GitHub/finm-portfolio-2022/data/ltcm_exhibits_data.xlsx'\n",
    "FILEIN3 = '/Users/kaiwentay/Library/Mobile Documents/com~apple~CloudDocs/Documents/GitHub/finm-portfolio-2022/data/fx_carry_data.xlsx'\n",
    "\n",
    "# reference github repo finm-portfolio-2022\n",
    "ltcm_exhibit_2 = pd.read_excel(FILEIN2, sheet_name=1, skiprows=(0,1), usecols='A:E').dropna().rename(columns={'Unnamed: 0':'Date','Gross Monthly Performancea':'Gross','Net Monthly Performanceb':'Net'}).set_index('Date')\n",
    "ltcm_exhibit_2.index = ltcm_exhibit_2.index.to_period('M').to_timestamp('M')\n",
    "ltcm_exhibit_4 = pd.read_excel(FILEIN2, sheet_name=2, skiprows=(0,1), usecols='A:E').dropna().rename(columns={'Month':'Date'}).set_index('Date')\n",
    "ltcm_exhibit_4.index = ltcm_exhibit_4.index.to_period('M').to_timestamp('M')\n",
    "\n",
    "gmo_returns = pd.read_excel(FILEIN1, sheet_name = 'returns (total)', index_col = 0, parse_dates = True)\n",
    "gmo_returns = gmo_returns.iloc[:, 0].to_frame('SPY')\n",
    "gmo_rfr = pd.read_excel(FILEIN1, sheet_name = 'risk-free rate', index_col = 0, parse_dates = True)\n",
    "\n",
    "# fx data\n",
    "fxspot = pd.read_excel(FILEIN3,sheet_name=2,index_col='DATE')\n",
    "rf = pd.read_excel(FILEIN3,sheet_name=1,index_col='DATE')"
   ]
  },
  {
   "cell_type": "code",
   "execution_count": 30,
   "metadata": {},
   "outputs": [],
   "source": [
    "returns_data = ltcm_exhibit_2.copy()\n",
    "returns_data['SPY'] = gmo_returns['SPY']\n",
    "returns_data = returns_data.subtract(gmo_rfr['US3M'].loc['1994-03':'1998-07'], axis = 0)\n"
   ]
  },
  {
   "cell_type": "markdown",
   "metadata": {},
   "source": [
    "### 2.1 Summary stats:\n",
    "(a) For both the gross and net series of LTCM excess returns, report the mean, volatility, and Sharpe ratios. (Annualize them.)\n",
    "\n",
    "(b) Report the skewness, kurtosis, and (historic) VaR(.05)\n",
    "\n",
    "(c) Comment on how these stats compare to SPY and other assets we have seen. How much do they differ between gross and net?"
   ]
  },
  {
   "cell_type": "code",
   "execution_count": 37,
   "metadata": {},
   "outputs": [
    {
     "data": {
      "text/html": [
       "<div>\n",
       "<style scoped>\n",
       "    .dataframe tbody tr th:only-of-type {\n",
       "        vertical-align: middle;\n",
       "    }\n",
       "\n",
       "    .dataframe tbody tr th {\n",
       "        vertical-align: top;\n",
       "    }\n",
       "\n",
       "    .dataframe thead th {\n",
       "        text-align: right;\n",
       "    }\n",
       "</style>\n",
       "<table border=\"1\" class=\"dataframe\">\n",
       "  <thead>\n",
       "    <tr style=\"text-align: right;\">\n",
       "      <th></th>\n",
       "      <th>Mean</th>\n",
       "      <th>Volatility</th>\n",
       "      <th>Sharpe Ratio</th>\n",
       "      <th>Skewness</th>\n",
       "      <th>Excess Kurtosis</th>\n",
       "      <th>VaR (5.0%)</th>\n",
       "      <th>CVaR (5.0%)</th>\n",
       "    </tr>\n",
       "  </thead>\n",
       "  <tbody>\n",
       "    <tr>\n",
       "      <th>Gross</th>\n",
       "      <td>0.242077</td>\n",
       "      <td>0.136232</td>\n",
       "      <td>1.776946</td>\n",
       "      <td>-0.287725</td>\n",
       "      <td>1.586625</td>\n",
       "      <td>-0.030445</td>\n",
       "      <td>-0.072997</td>\n",
       "    </tr>\n",
       "    <tr>\n",
       "      <th>Net</th>\n",
       "      <td>0.155360</td>\n",
       "      <td>0.111765</td>\n",
       "      <td>1.390059</td>\n",
       "      <td>-0.810239</td>\n",
       "      <td>2.926921</td>\n",
       "      <td>-0.026415</td>\n",
       "      <td>-0.068664</td>\n",
       "    </tr>\n",
       "    <tr>\n",
       "      <th>SPY</th>\n",
       "      <td>0.173823</td>\n",
       "      <td>0.112294</td>\n",
       "      <td>1.547923</td>\n",
       "      <td>-0.433516</td>\n",
       "      <td>-0.362022</td>\n",
       "      <td>-0.046360</td>\n",
       "      <td>-0.051379</td>\n",
       "    </tr>\n",
       "  </tbody>\n",
       "</table>\n",
       "</div>"
      ],
      "text/plain": [
       "           Mean  Volatility  Sharpe Ratio  Skewness  Excess Kurtosis  \\\n",
       "Gross  0.242077    0.136232      1.776946 -0.287725         1.586625   \n",
       "Net    0.155360    0.111765      1.390059 -0.810239         2.926921   \n",
       "SPY    0.173823    0.112294      1.547923 -0.433516        -0.362022   \n",
       "\n",
       "       VaR (5.0%)  CVaR (5.0%)  \n",
       "Gross   -0.030445    -0.072997  \n",
       "Net     -0.026415    -0.068664  \n",
       "SPY     -0.046360    -0.051379  "
      ]
     },
     "execution_count": 37,
     "metadata": {},
     "output_type": "execute_result"
    }
   ],
   "source": [
    "returns_stats = calc_stats(returns_data[['Gross', 'Net', 'SPY']], input_freq = 'm', output_freq = 'a', ci_level = 0.05)\n",
    "returns_stats.iloc[:, :7]"
   ]
  },
  {
   "cell_type": "code",
   "execution_count": 49,
   "metadata": {},
   "outputs": [
    {
     "data": {
      "image/png": "[encoded data removed]",
      "text/plain": [
       "<Figure size 1500x500 with 3 Axes>"
      ]
     },
     "metadata": {},
     "output_type": "display_data"
    }
   ],
   "source": [
    "#individual histogram plot of returns of Gross, Net and SPY\n",
    "titles = ['Gross Returns', 'Net Returns', 'SPY Returns']\n",
    "columns = ['Gross', 'Net', 'SPY']\n",
    "\n",
    "fig, ax = plt.subplots(1, 3, figsize=(15, 5))\n",
    "\n",
    "for i in range(3):\n",
    "    sns.histplot(returns_data[columns[i]], ax=ax[i], bins = 10, kde = True, stat = 'density')\n",
    "    ax[i].set_title(titles[i])\n",
    "\n",
    "fig.suptitle('Histogram of Returns')\n",
    "fig.tight_layout()\n",
    "fig.subplots_adjust(top=0.9)\n",
    "\n",
    "plt.show()"
   ]
  },
  {
   "cell_type": "markdown",
   "metadata": {},
   "source": [
    "In terms of gross, LTCM outperforms SPY on all metrics. However, net of fees, they seems to underperform the SPY whether it is in terms of mean, volatility or sharpe. This could mean that their costs are very high. \n",
    "\n",
    "LTCM has much thinner tailed distribution (i.e. mesokurtic), meaning that it seems like its returns are not heavily subjected to outlier events relative to SPY. It is more negatively skewed (net of fees) compared to the SPX, although that might not be a bad thing. We can see from the diagram above that Net Returns are generally skewed positively, although negative returns are much higher (though more infrequent) relative to SPX."
   ]
  },
  {
   "cell_type": "markdown",
   "metadata": {},
   "source": [
    "### 2.2 Using the series of net LTCM excess returns, denoted $\\tilde{r}^{LTCM}_t$, estimate the following regression:\n",
    "\n",
    "$$\\tilde{r}^{LTCM}_t = \\alpha + \\beta^{m} \\tilde{r}^{m}_t + \\epsilon_t$$\n",
    "\n",
    "(a) Report $\\alpha$ and $\\beta^{m}$. Report the $R^2$ stat.\n",
    "\n",
    "(b) From this regression, does LTCM appear to be a \"closet indexer\"?\n",
    "\n",
    "(c) From the regression, does LTCM appear to deliver excess returns beyond the risk premium we expect from market exposure?\n"
   ]
  },
  {
   "cell_type": "code",
   "execution_count": 87,
   "metadata": {},
   "outputs": [
    {
     "data": {
      "text/html": [
       "<div>\n",
       "<style scoped>\n",
       "    .dataframe tbody tr th:only-of-type {\n",
       "        vertical-align: middle;\n",
       "    }\n",
       "\n",
       "    .dataframe tbody tr th {\n",
       "        vertical-align: top;\n",
       "    }\n",
       "\n",
       "    .dataframe thead th {\n",
       "        text-align: right;\n",
       "    }\n",
       "</style>\n",
       "<table border=\"1\" class=\"dataframe\">\n",
       "  <thead>\n",
       "    <tr style=\"text-align: right;\">\n",
       "      <th></th>\n",
       "      <th>Value</th>\n",
       "    </tr>\n",
       "  </thead>\n",
       "  <tbody>\n",
       "    <tr>\n",
       "      <th>alpha</th>\n",
       "      <td>0.131527</td>\n",
       "    </tr>\n",
       "    <tr>\n",
       "      <th>beta</th>\n",
       "      <td>0.137114</td>\n",
       "    </tr>\n",
       "    <tr>\n",
       "      <th>r_squared</th>\n",
       "      <td>0.018979</td>\n",
       "    </tr>\n",
       "  </tbody>\n",
       "</table>\n",
       "</div>"
      ],
      "text/plain": [
       "              Value\n",
       "alpha      0.131527\n",
       "beta       0.137114\n",
       "r_squared  0.018979"
      ]
     },
     "execution_count": 87,
     "metadata": {},
     "output_type": "execute_result"
    }
   ],
   "source": [
    "#alpha and beta of net return against spx using regression_based_performance function\n",
    "net_model, model = regression_based_performance(returns_data['SPY'], returns_data['Net'], rf = 0, input_freq = 'm', output_freq = 'a', constant = True)\n",
    "net_model.loc[['alpha', 'beta', 'r_squared']]"
   ]
  },
  {
   "cell_type": "markdown",
   "metadata": {},
   "source": [
    "Given the low $\\mathbb{R}^{2}$ value, it is probably not a \"closet indexer\". Also, LTCM does seem to deliver good excess return over the market given the annulised alpha of 13%. "
   ]
  },
  {
   "cell_type": "markdown",
   "metadata": {},
   "source": [
    "### 2.3 Let’s check for non-linear market exposure. Run the following regression on LTCM’s net excess returns:\n",
    "\n",
    "$$\\tilde{r}^{LTCM}_t = \\alpha + \\beta^{m}_{1} \\tilde{r}^{m}_t + \\beta^{m}_{2} (\\tilde{r}^{m}_t)^{2} + \\epsilon_t$$\n",
    "\n",
    "(a) Report $\\beta^{m}_{1}$, and $\\beta^{m}_{2}$. Report the $R^2$ stat.\n",
    "\n",
    "(b) Does the quadratic market factor do much to increase the overall LTCM variation explained by the market?\n",
    "\n",
    "(c) From the regression evidence, does LTCM’s market exposure behave as if it is long market options or short market options?\n",
    "\n",
    "(d) Should we describe LTCM as being positively or negatively exposed to market volatility?"
   ]
  },
  {
   "cell_type": "code",
   "execution_count": 70,
   "metadata": {},
   "outputs": [
    {
     "data": {
      "text/html": [
       "<div>\n",
       "<style scoped>\n",
       "    .dataframe tbody tr th:only-of-type {\n",
       "        vertical-align: middle;\n",
       "    }\n",
       "\n",
       "    .dataframe tbody tr th {\n",
       "        vertical-align: top;\n",
       "    }\n",
       "\n",
       "    .dataframe thead th {\n",
       "        text-align: right;\n",
       "    }\n",
       "</style>\n",
       "<table border=\"1\" class=\"dataframe\">\n",
       "  <thead>\n",
       "    <tr style=\"text-align: right;\">\n",
       "      <th></th>\n",
       "      <th>Value</th>\n",
       "    </tr>\n",
       "  </thead>\n",
       "  <tbody>\n",
       "    <tr>\n",
       "      <th>alpha</th>\n",
       "      <td>0.155042</td>\n",
       "    </tr>\n",
       "    <tr>\n",
       "      <th>beta</th>\n",
       "      <td>0.166878</td>\n",
       "    </tr>\n",
       "    <tr>\n",
       "      <th>beta_squared</th>\n",
       "      <td>-1.926746</td>\n",
       "    </tr>\n",
       "    <tr>\n",
       "      <th>r_squared</th>\n",
       "      <td>0.024321</td>\n",
       "    </tr>\n",
       "  </tbody>\n",
       "</table>\n",
       "</div>"
      ],
      "text/plain": [
       "                 Value\n",
       "alpha         0.155042\n",
       "beta          0.166878\n",
       "beta_squared -1.926746\n",
       "r_squared     0.024321"
      ]
     },
     "execution_count": 70,
     "metadata": {},
     "output_type": "execute_result"
    }
   ],
   "source": [
    "net_model_quad = regression_based_performance(returns_data['SPY'], returns_data['Net'], rf = 0, input_freq = 'm', output_freq = 'a', constant = True, model_type = 'quadratic')\n",
    "net_model_quad.loc[['alpha', 'beta', 'beta_squared', 'r_squared']]"
   ]
  },
  {
   "cell_type": "markdown",
   "metadata": {},
   "source": [
    "Clearly, adding the quadratic regression does not improve the fit of the regression. Given that the beta for market returns squared is negative, we can say that they are short volatility and hence strategy is short market options. i.e. returns are lower the larger market returns are. "
   ]
  },
  {
   "cell_type": "markdown",
   "metadata": {},
   "source": [
    "### 2.4 Let’s try to pinpoint the nature of LTCM’s nonlinear exposure. Does it come more from exposure to up-markets or down-markets? Run the following regression on LTCM’s net excess returns:\n",
    "\n",
    "$$\\tilde{r}^{LTCM}_t = \\alpha + \\beta \\tilde{r}^{m}_t + \\beta_{u} \\max(\\tilde{r}^{m}_t - k_{1}, 0) + \\beta_{d} \\max(k_{2} - \\tilde{r}^{m}_t, 0) + \\epsilon_t$$\n",
    "\n",
    "where $k_1 = 0.03$ and $k_2=-0.03$\n",
    "\n",
    "(a) Report $\\beta$, $\\beta_{u}$, and $\\beta_{d}$. Report the $R^2$ stat.\n",
    "\n",
    "(b) Is LTCM long or short the call-like factor? And the put-like factor?\n",
    "\n",
    "(c) Which factor moves LTCM more, the call-like factor, or the put-like factor?\n",
    "\n",
    "(d) In the previous problem, you commented on whether LTCM is positively or negatively exposed to market volatility. Using this current regression, does this volatility exposure come more from being long the market’s upside? Short the market’s downside? Something else?"
   ]
  },
  {
   "cell_type": "code",
   "execution_count": 73,
   "metadata": {},
   "outputs": [
    {
     "data": {
      "text/html": [
       "<div>\n",
       "<style scoped>\n",
       "    .dataframe tbody tr th:only-of-type {\n",
       "        vertical-align: middle;\n",
       "    }\n",
       "\n",
       "    .dataframe tbody tr th {\n",
       "        vertical-align: top;\n",
       "    }\n",
       "\n",
       "    .dataframe thead th {\n",
       "        text-align: right;\n",
       "    }\n",
       "</style>\n",
       "<table border=\"1\" class=\"dataframe\">\n",
       "  <thead>\n",
       "    <tr style=\"text-align: right;\">\n",
       "      <th></th>\n",
       "      <th>Value</th>\n",
       "    </tr>\n",
       "  </thead>\n",
       "  <tbody>\n",
       "    <tr>\n",
       "      <th>alpha</th>\n",
       "      <td>0.101231</td>\n",
       "    </tr>\n",
       "    <tr>\n",
       "      <th>beta</th>\n",
       "      <td>0.466610</td>\n",
       "    </tr>\n",
       "    <tr>\n",
       "      <th>beta_u</th>\n",
       "      <td>-0.782140</td>\n",
       "    </tr>\n",
       "    <tr>\n",
       "      <th>beta_d</th>\n",
       "      <td>1.289575</td>\n",
       "    </tr>\n",
       "    <tr>\n",
       "      <th>r_squared</th>\n",
       "      <td>0.055486</td>\n",
       "    </tr>\n",
       "  </tbody>\n",
       "</table>\n",
       "</div>"
      ],
      "text/plain": [
       "              Value\n",
       "alpha      0.101231\n",
       "beta       0.466610\n",
       "beta_u    -0.782140\n",
       "beta_d     1.289575\n",
       "r_squared  0.055486"
      ]
     },
     "execution_count": 73,
     "metadata": {},
     "output_type": "execute_result"
    }
   ],
   "source": [
    "net_model_nonlinear = regression_based_performance(returns_data['SPY'], returns_data['Net'], rf = 0, input_freq = 'm', output_freq = 'a', constant = True, model_type = 'piecewise', k1 = 0.03, k2 = -0.03)\n",
    "net_model_nonlinear.loc[['alpha', 'beta', 'beta_u', 'beta_d', 'r_squared']]"
   ]
  },
  {
   "cell_type": "markdown",
   "metadata": {},
   "source": [
    "LTCM is short the call-like factor and long the put-like factor, with the put-like factor being larger (i.e. LTCM is net short the market). Its short options exposure is a result of being short the call factor.  "
   ]
  },
  {
   "cell_type": "markdown",
   "metadata": {},
   "source": [
    "## 3. The FX Carry Trade\n",
    "\n",
    "Find an Excel data file, “fx carry data.xlsx”. The file has two sets of data:\n",
    "\n",
    "- Risk-free rates across 5 currencies, as measured by annualized 3-month LIBOR rates.\n",
    "- Spot FX rates, as direct quotes to the USD. (Note that all currencies are quoted as USD per the foreign currency.)\n",
    "\n",
    "For use in the homework, note the following:\n",
    "- For risk-free rate data, $r^{f,i}_{t,t+1}$, the rate is known and reported in the data at time $t$. Namely, any given date $t$ in the data file is reporting both $S^{i}_{t}$ and $r^{f,i}_{t,t+1}$\n",
    "- The theory says to use log risk-free rates. You have the risk-free rate in levels: use the following equation to convert them: $r^{f,i}_{t,t+1}=\\ln(1+r^{f,i}_{t,t+1})$\n",
    "- The theory says to use log spot FX prices. You have the FX prices in levels, so directly take their logarithims: $s^{i}_{t}=\\ln(S^{i}_{t})$\n"
   ]
  },
  {
   "cell_type": "markdown",
   "metadata": {},
   "source": [
    "### 3.1 The Static Carry Trade\n",
    "For each foreign currency, $i$, calculate the excess log return series,  $\\tilde{r}^{t+1}$ . Report the following stats, (based on the excess log returns.) Annualize them.\n",
    "(a) mean \n",
    "\n",
    "(b) volatility\n",
    "\n",
    "(c) Sharpe ratio\n",
    "\n",
    "What differences do you see across currencies?"
   ]
  },
  {
   "cell_type": "code",
   "execution_count": 78,
   "metadata": {},
   "outputs": [],
   "source": [
    "logfxspot = np.log(fxspot)\n",
    "logrf = np.log(1+rf).shift()\n",
    "excesslogfxcarry = pd.DataFrame(index=logfxspot.index)\n",
    "excesslogfxcarry['USUK'] = logfxspot.diff().USUK+logrf.GBP1M-logrf.USD1M\n",
    "excesslogfxcarry['USEU'] = logfxspot.diff().USEU+logrf.EUR1M-logrf.USD1M\n",
    "excesslogfxcarry['USSZ'] = logfxspot.diff().USSZ+logrf.CHF1M-logrf.USD1M\n",
    "excesslogfxcarry['USJP'] = logfxspot.diff().USJP+logrf.JPY1M-logrf.USD1M\n",
    "excesslogfxcarry = excesslogfxcarry.dropna()"
   ]
  },
  {
   "cell_type": "code",
   "execution_count": 80,
   "metadata": {},
   "outputs": [
    {
     "data": {
      "text/html": [
       "<div>\n",
       "<style scoped>\n",
       "    .dataframe tbody tr th:only-of-type {\n",
       "        vertical-align: middle;\n",
       "    }\n",
       "\n",
       "    .dataframe tbody tr th {\n",
       "        vertical-align: top;\n",
       "    }\n",
       "\n",
       "    .dataframe thead th {\n",
       "        text-align: right;\n",
       "    }\n",
       "</style>\n",
       "<table border=\"1\" class=\"dataframe\">\n",
       "  <thead>\n",
       "    <tr style=\"text-align: right;\">\n",
       "      <th></th>\n",
       "      <th>Mean</th>\n",
       "      <th>Volatility</th>\n",
       "      <th>Sharpe Ratio</th>\n",
       "    </tr>\n",
       "  </thead>\n",
       "  <tbody>\n",
       "    <tr>\n",
       "      <th>USUK</th>\n",
       "      <td>-0.003502</td>\n",
       "      <td>0.086303</td>\n",
       "      <td>-0.040574</td>\n",
       "    </tr>\n",
       "    <tr>\n",
       "      <th>USEU</th>\n",
       "      <td>-0.004351</td>\n",
       "      <td>0.094714</td>\n",
       "      <td>-0.045944</td>\n",
       "    </tr>\n",
       "    <tr>\n",
       "      <th>USSZ</th>\n",
       "      <td>0.004312</td>\n",
       "      <td>0.098757</td>\n",
       "      <td>0.043662</td>\n",
       "    </tr>\n",
       "    <tr>\n",
       "      <th>USJP</th>\n",
       "      <td>-0.017415</td>\n",
       "      <td>0.091492</td>\n",
       "      <td>-0.190342</td>\n",
       "    </tr>\n",
       "  </tbody>\n",
       "</table>\n",
       "</div>"
      ],
      "text/plain": [
       "          Mean  Volatility  Sharpe Ratio\n",
       "USUK -0.003502    0.086303     -0.040574\n",
       "USEU -0.004351    0.094714     -0.045944\n",
       "USSZ  0.004312    0.098757      0.043662\n",
       "USJP -0.017415    0.091492     -0.190342"
      ]
     },
     "execution_count": 80,
     "metadata": {},
     "output_type": "execute_result"
    }
   ],
   "source": [
    "fx_returns_calc = calc_stats(excesslogfxcarry, input_freq = 'm', output_freq = 'a', ci_level = 0.05)\n",
    "fx_returns_calc[['Mean', 'Volatility', 'Sharpe Ratio']]"
   ]
  },
  {
   "cell_type": "markdown",
   "metadata": {},
   "source": [
    "We can see that the only currency with a positive sharpe is USSZ. In terms, volatility, all of them are fairly similar."
   ]
  },
  {
   "cell_type": "markdown",
   "metadata": {},
   "source": [
    "### 3.2 Implications for UIP:\n",
    "(a) Do any of these stats contradict the (log version) of Uncovered Interest Parity (UIP)?\n",
    "\n",
    "    Most of these are close for returns to zero so no. \n",
    "\n",
    "(b) A long position in which foreign currency offered the best Sharpe ratio over the sample?\n",
    "\n",
    "    We can play on inverse USJP, i.e. long USD short JPY. \n",
    "\n",
    "(c) Are there any foreign currencies for which a long position earned a negative excess return (in USD) over the sample?\n",
    "\n",
    "    All except SZ. "
   ]
  },
  {
   "cell_type": "markdown",
   "metadata": {},
   "source": [
    "### 3.3 Predicting FX:\n",
    "For each foreign currency, test whether interest-rate differentials can predict growth in the foreign-exchange rate. Do this by estimating the following forecasting regression:\n",
    "\n",
    "$$\n",
    "s_{t+1}^{1}-s_{t}^{1}=\\alpha^{i}+\\beta^{i}(r_{t,t+1}^{f,\\$}-r_{t,t+1}^{f,i})+\\epsilon_{t+1}^{i}\n",
    "$$\n",
    "\n",
    "where $r^{f,i}$ denotes the risk-free rate of currency $i$ and $s^{i}$ denotes the FX rate for currency $i$. Again, note that both $r_{t,t+1}^{f,\\$}$ and $s_{t}$ are determined at time $t$.\n",
    "\n",
    "(a) Make a table with columns corresponding to a different currency regression.\n",
    "Report the regression estimates $\\alpha^{i}$ and $\\beta^{i}$ in the first two rows. Report the $R^2$ stat in the third row.\n",
    "\n",
    "(b) Suppose the foreign risk-free rate increases relative to the US rate.\n",
    "\n",
    "&nbsp;&nbsp;&nbsp;&nbsp;i. For which foreign currencies would we predict a relative strengthening of the USD in the following period?  \n",
    "&nbsp;&nbsp;&nbsp;&nbsp;ii. For which currencies would we predict relative weakening of the USD in the following period?  \n",
    "&nbsp;&nbsp;&nbsp;&nbsp;iii. This FX predictability is strongest in the case of which foreign currency?\n",
    "\n"
   ]
  },
  {
   "cell_type": "code",
   "execution_count": 81,
   "metadata": {},
   "outputs": [
    {
     "data": {
      "text/html": [
       "<div>\n",
       "<style scoped>\n",
       "    .dataframe tbody tr th:only-of-type {\n",
       "        vertical-align: middle;\n",
       "    }\n",
       "\n",
       "    .dataframe tbody tr th {\n",
       "        vertical-align: top;\n",
       "    }\n",
       "\n",
       "    .dataframe thead th {\n",
       "        text-align: right;\n",
       "    }\n",
       "</style>\n",
       "<table border=\"1\" class=\"dataframe\">\n",
       "  <thead>\n",
       "    <tr style=\"text-align: right;\">\n",
       "      <th></th>\n",
       "      <th>USUK</th>\n",
       "      <th>USEU</th>\n",
       "      <th>USSZ</th>\n",
       "      <th>USJP</th>\n",
       "    </tr>\n",
       "  </thead>\n",
       "  <tbody>\n",
       "    <tr>\n",
       "      <th>Alpha</th>\n",
       "      <td>-0.005868</td>\n",
       "      <td>0.007033</td>\n",
       "      <td>0.043574</td>\n",
       "      <td>-0.005996</td>\n",
       "    </tr>\n",
       "    <tr>\n",
       "      <th>Beta</th>\n",
       "      <td>0.485836</td>\n",
       "      <td>-1.256358</td>\n",
       "      <td>-1.646596</td>\n",
       "      <td>0.371473</td>\n",
       "    </tr>\n",
       "    <tr>\n",
       "      <th>R-Squared</th>\n",
       "      <td>0.000382</td>\n",
       "      <td>0.002610</td>\n",
       "      <td>0.003948</td>\n",
       "      <td>0.000501</td>\n",
       "    </tr>\n",
       "  </tbody>\n",
       "</table>\n",
       "</div>"
      ],
      "text/plain": [
       "               USUK      USEU      USSZ      USJP\n",
       "Alpha     -0.005868  0.007033  0.043574 -0.005996\n",
       "Beta       0.485836 -1.256358 -1.646596  0.371473\n",
       "R-Squared  0.000382  0.002610  0.003948  0.000501"
      ]
     },
     "metadata": {},
     "output_type": "display_data"
    }
   ],
   "source": [
    "USD_CCY = pd.DataFrame(index=logfxspot.index)\n",
    "USD_CCY['USUK'] = logrf.USD1M-logrf.GBP1M\n",
    "USD_CCY['USEU'] = logrf.USD1M-logrf.EUR1M\n",
    "USD_CCY['USSZ'] = logrf.USD1M-logrf.CHF1M\n",
    "USD_CCY['USJP'] = logrf.USD1M-logrf.JPY1M\n",
    "logfxret = logfxspot.diff()\n",
    "\n",
    "USD_CCY.dropna(inplace = True)\n",
    "logfxret.dropna(inplace = True)\n",
    "\n",
    "reg_results = pd.DataFrame(columns = ['USUK', 'USEU', 'USSZ', 'USJP'], index = ['Alpha', 'Beta', 'R-Squared'])\n",
    "\n",
    "\n",
    "for i in reg_results.columns:\n",
    "    \n",
    "    exog = sm.add_constant(USD_CCY[i])\n",
    "    endog = logfxret[i]\n",
    "    model = sm.OLS(endog, exog).fit()\n",
    "    \n",
    "    reg_results[i] = [model.params[0] * 12, model.params[1], model.rsquared]\n",
    "    \n",
    "    \n",
    "display(reg_results)"
   ]
  },
  {
   "cell_type": "markdown",
   "metadata": {},
   "source": [
    "If the foreign rfr strengthen, we expect that the USD - rfr must go down. Hence:\n",
    "- UK and JP should decrease relative to US (US strengthens relative)\n",
    "- EU and SZ should increase relative to US (US weakens relative)\n",
    "\n",
    "This effect seems to be the highest predictability for USSZ."
   ]
  },
  {
   "cell_type": "markdown",
   "metadata": {},
   "source": [
    "### 3.4 The Dynamic Carry Trade\n",
    "Use this to write $E_t [ r_{t+1}^i ]$ as a function of the interest-rate differential as well as $\\alpha$ and $\\beta$ from this FX regression.\n",
    "\n",
    "$$\n",
    "E_t [ s_{t+1} - s_t ] = \\alpha + \\beta ( r_{t,t+1}^{f,\\$} - r_{t,t+1}^{f,i} )\n",
    "$$\n",
    "\n",
    "Then use the definition of excess (log) returns on FX:\n",
    "\n",
    "$$\n",
    "\\hat{r}_{t+1}^i = s_{t+1} - s_t - ( r_{t,t+1}^{f,\\$} - r_{t,t+1}^{f,i} )\n",
    "$$\n",
    "\n",
    "Rearranging, this implies the following forecast for excess log returns:\n",
    "\n",
    "$$\n",
    "E_t [ \\hat{r}_{t+1}^i ] = \\alpha + (\\beta - 1) ( r_{t,t+1}^{f,\\$} - r_{t,t+1}^{f,i} )\n",
    "$$\n",
    "\n",
    "(a) Use your regression estimates from Problem 3 along with the formula above to calculate the fraction of months for which the estimated FX risk premium positive. That is, for each $i$, calculate how often in the time-series we have\n",
    "\n",
    "$$\n",
    "E_t [ \\hat{r}_{t+1}^i ] > 0\n",
    "$$\n",
    "\n",
    "(b) Which currencies most consistently have a positive FX risk premium? And for which currencies does the FX risk premium most often go negative?\n",
    "\n",
    "(c) Explain how we could use these conditional risk premia to improve the static carry trade returns calculated in Problem 1.\n"
   ]
  },
  {
   "cell_type": "code",
   "execution_count": 83,
   "metadata": {},
   "outputs": [
    {
     "name": "stdout",
     "output_type": "stream",
     "text": [
      "Expected USUK > 0 : 23.81% \n",
      "Expected USEU > 0 : 50.18% \n",
      "Expected USSZ > 0 : 63.00% \n",
      "Expected USJP > 0 : 0.00% \n"
     ]
    }
   ],
   "source": [
    "USUK_pred = (reg_results['USUK']['Alpha']/12) + (reg_results['USUK']['Beta'] - 1)*USD_CCY['USUK']\n",
    "USEU_pred = (reg_results['USEU']['Alpha']/12) + (reg_results['USEU']['Beta'] - 1)*USD_CCY['USEU']\n",
    "USSZ_pred = (reg_results['USSZ']['Alpha']/12) + (reg_results['USSZ']['Beta'] - 1)*USD_CCY['USSZ']\n",
    "USJP_pred = (reg_results['USJP']['Alpha']/12) + (reg_results['USJP']['Beta'] - 1)*USD_CCY['USJP']\n",
    "print('Expected USUK > 0 : {:,.2%} '.format(sum(USUK_pred > 0)/len(USUK_pred)))\n",
    "print('Expected USEU > 0 : {:,.2%} '.format(sum(USEU_pred > 0)/len(USUK_pred)))\n",
    "print('Expected USSZ > 0 : {:,.2%} '.format(sum(USSZ_pred > 0)/len(USUK_pred)))\n",
    "print('Expected USJP > 0 : {:,.2%} '.format(sum(USJP_pred > 0)/len(USUK_pred)))"
   ]
  },
  {
   "cell_type": "markdown",
   "metadata": {},
   "source": [
    "Risk premium is most negative for JP. "
   ]
  }
 ],
 "metadata": {
  "kernelspec": {
   "display_name": "Python 3",
   "language": "python",
   "name": "python3"
  },
  "language_info": {
   "codemirror_mode": {
    "name": "ipython",
    "version": 3
   },
   "file_extension": ".py",
   "mimetype": "text/x-python",
   "name": "python",
   "nbconvert_exporter": "python",
   "pygments_lexer": "ipython3",
   "version": "3.11.0"
  }
 },
 "nbformat": 4,
 "nbformat_minor": 2
}
